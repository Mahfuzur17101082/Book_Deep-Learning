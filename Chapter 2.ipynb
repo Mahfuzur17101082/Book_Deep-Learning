{
 "cells": [
  {
   "cell_type": "markdown",
   "metadata": {},
   "source": [
    "# Linear Algebra"
   ]
  },
  {
   "cell_type": "code",
   "execution_count": 1,
   "metadata": {},
   "outputs": [],
   "source": [
    "import numpy as np"
   ]
  },
  {
   "cell_type": "markdown",
   "metadata": {},
   "source": [
    "2.1 Scalars, Vectors, Matrices and Tensors"
   ]
  },
  {
   "cell_type": "markdown",
   "metadata": {},
   "source": [
    "Key: Scalars, Vectors, Matrices, Tensors, Broadcasting, Transpose"
   ]
  },
  {
   "cell_type": "code",
   "execution_count": 47,
   "metadata": {},
   "outputs": [],
   "source": [
    "#Scalars\n",
    "a=5\n",
    "#Vectors\n",
    "x=np.reshape([5, 6, 7, 8, 9], (5, 1))\n",
    "#Matrices\n",
    "y1=np.random.rand(2, 3) #peramiters: (row, coloum)\n",
    "y2=np.random.randint(3, 10) ##peramiters: (min value, max value) #Only randint formate and it is for int\n",
    "y3=np.random.randint(11, size=(2, 3)) ##peramiters: (max value, (row, coloum))\n",
    "#Tensors\n",
    "z= np.random.rand(2,3,4)"
   ]
  },
  {
   "cell_type": "code",
   "execution_count": 55,
   "metadata": {},
   "outputs": [
    {
     "name": "stdout",
     "output_type": "stream",
     "text": [
      "a: \n",
      " [[1 6 9]\n",
      " [6 7 5]]\n",
      "b: \n",
      " [[3 1 5]\n",
      " [8 7 8]]\n",
      "c: \n",
      " [[ 4  7 14]\n",
      " [14 14 13]]\n",
      "d: \n",
      " [[15 40 55]\n",
      " [40 45 35]]\n"
     ]
    }
   ],
   "source": [
    "a=np.random.randint(10, size=(2, 3))\n",
    "b=np.random.randint(10, size=(2, 3))\n",
    "c=a+b\n",
    "d=5*a+10\n",
    "print(\"a: \\n\",a)\n",
    "print(\"b: \\n\",b)\n",
    "print(\"c: \\n\",c)\n",
    "print(\"d: \\n\",d)"
   ]
  },
  {
   "cell_type": "code",
   "execution_count": 59,
   "metadata": {},
   "outputs": [
    {
     "name": "stdout",
     "output_type": "stream",
     "text": [
      "Example 1\n",
      "a: \n",
      " [[6 4 8]\n",
      " [1 8 2]]\n",
      "b: \n",
      " [[2 6 3]]\n",
      "c: \n",
      " [[ 8 10 11]\n",
      " [ 3 14  5]]\n",
      "Example 2\n",
      "a: \n",
      " [[1 2 3]\n",
      " [2 6 0]]\n",
      "b: \n",
      " [[11 12 13]\n",
      " [12 16 10]]\n"
     ]
    }
   ],
   "source": [
    "#Broadcasting\n",
    "#Example 1\n",
    "a=np.random.randint(10, size=(2, 3)) #Maqtrix\n",
    "b=np.random.randint(10, size=(1, 3))\n",
    "c=a+b\n",
    "print(\"Example 1\")\n",
    "print(\"a: \\n\",a)\n",
    "print(\"b: \\n\",b)\n",
    "print(\"c: \\n\",c)\n",
    "#Example 2\n",
    "a=np.random.randint(10, size=(2, 3)) #Maqtrix\n",
    "b=a+10\n",
    "print(\"Example 2\")\n",
    "print(\"a: \\n\",a)\n",
    "print(\"b: \\n\",b)"
   ]
  },
  {
   "cell_type": "code",
   "execution_count": 64,
   "metadata": {},
   "outputs": [
    {
     "name": "stdout",
     "output_type": "stream",
     "text": [
      "a: \n",
      " [[9 0 3]\n",
      " [1 1 5]]\n",
      "aT1: \n",
      " [[9 0]\n",
      " [3 1]\n",
      " [1 5]]\n",
      "aT2: \n",
      " [[9 1]\n",
      " [0 1]\n",
      " [3 5]]\n"
     ]
    }
   ],
   "source": [
    "#Transpose\n",
    "a=np.random.randint(10, size=(2, 3))\n",
    "aT1=np.reshape(a, (3, 2))\n",
    "aT2=np.transpose(a)\n",
    "print(\"a: \\n\",a)\n",
    "print(\"aT1: \\n\",aT1) #Not Transpose\n",
    "print(\"aT2: \\n\",aT2) #Transpose"
   ]
  },
  {
   "cell_type": "markdown",
   "metadata": {},
   "source": [
    "2.2 Multiplying Matrices and Vectors"
   ]
  },
  {
   "cell_type": "code",
   "execution_count": 72,
   "metadata": {},
   "outputs": [
    {
     "name": "stdout",
     "output_type": "stream",
     "text": [
      "a: \n",
      " [[4 6 7]\n",
      " [8 7 4]]\n",
      "b: \n",
      " [[8 7 2]\n",
      " [6 4 0]]\n",
      "c: \n",
      " [[9 0 4]\n",
      " [3 3 1]]\n",
      "a(b+c): \n",
      " [[68 42 42]\n",
      " [72 49  4]]\n",
      "ab+ac: \n",
      " [[68 42 42]\n",
      " [72 49  4]]\n",
      "a*b: \n",
      " [[32 42 14]\n",
      " [48 28  0]]\n",
      "aT*b: \n",
      " [[80 60  8]\n",
      " [90 70 12]\n",
      " [80 65 14]]\n",
      "bT*a: \n",
      " [[80 90 80]\n",
      " [60 70 65]\n",
      " [ 8 12 14]]\n"
     ]
    }
   ],
   "source": [
    "a=np.random.randint(10, size=(2, 3))\n",
    "b=np.random.randint(10, size=(2, 3))\n",
    "c=np.random.randint(10, size=(2, 3))\n",
    "print(\"a: \\n\",a)\n",
    "print(\"b: \\n\",b)\n",
    "print(\"c: \\n\",c)\n",
    "print(\"a(b+c): \\n\",a*(b+c))\n",
    "print(\"ab+ac: \\n\",(a*b)+(a*c))\n",
    "print(\"a*b: \\n\", a*b) # Element wise\n",
    "aT=np.transpose(a)\n",
    "bT=np.transpose(b)\n",
    "print(\"aT*b: \\n\",np.dot(aT,b)) #Real Mul Matrix (col x row)\n",
    "print(\"bT*a: \\n\",np.dot(bT,a)) #Real Mul Matrix (col x row)"
   ]
  },
  {
   "cell_type": "code",
   "execution_count": null,
   "metadata": {},
   "outputs": [],
   "source": []
  }
 ],
 "metadata": {
  "kernelspec": {
   "display_name": "Python 3",
   "language": "python",
   "name": "python3"
  },
  "language_info": {
   "codemirror_mode": {
    "name": "ipython",
    "version": 3
   },
   "file_extension": ".py",
   "mimetype": "text/x-python",
   "name": "python",
   "nbconvert_exporter": "python",
   "pygments_lexer": "ipython3",
   "version": "3.7.4"
  }
 },
 "nbformat": 4,
 "nbformat_minor": 2
}
