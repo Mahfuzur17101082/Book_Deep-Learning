{
 "cells": [
  {
   "cell_type": "markdown",
   "metadata": {},
   "source": [
    "# Linear Algebra"
   ]
  },
  {
   "cell_type": "code",
   "execution_count": 87,
   "metadata": {},
   "outputs": [],
   "source": [
    "import numpy as np"
   ]
  },
  {
   "cell_type": "markdown",
   "metadata": {},
   "source": [
    "2.1 Scalars, Vectors, Matrices and Tensors"
   ]
  },
  {
   "cell_type": "code",
   "execution_count": 88,
   "metadata": {},
   "outputs": [],
   "source": [
    "#Scalars\n",
    "a=5\n",
    "#Vectors\n",
    "x=np.reshape([5, 6, 7, 8, 9], (5, 1))\n",
    "#Matrices\n",
    "y1=np.random.rand(2, 3) #peramiters: (row, coloum)\n",
    "y2=np.random.randint(3, 10) ##peramiters: (min value, max value) #Only randint formate and it is for int\n",
    "y3=np.random.randint(11, size=(2, 3)) ##peramiters: (max value, (row, coloum))\n",
    "#Tensors\n",
    "z= np.random.rand(2,3,4)"
   ]
  },
  {
   "cell_type": "code",
   "execution_count": 89,
   "metadata": {},
   "outputs": [
    {
     "name": "stdout",
     "output_type": "stream",
     "text": [
      "a: \n",
      " [[0 4 6]\n",
      " [7 6 2]]\n",
      "b: \n",
      " [[9 6 8]\n",
      " [4 7 2]]\n",
      "c: \n",
      " [[ 9 10 14]\n",
      " [11 13  4]]\n",
      "d: \n",
      " [[10 30 40]\n",
      " [45 40 20]]\n"
     ]
    }
   ],
   "source": [
    "a=np.random.randint(10, size=(2, 3))\n",
    "b=np.random.randint(10, size=(2, 3))\n",
    "c=a+b\n",
    "d=5*a+10\n",
    "print(\"a: \\n\",a)\n",
    "print(\"b: \\n\",b)\n",
    "print(\"c: \\n\",c)\n",
    "print(\"d: \\n\",d)"
   ]
  },
  {
   "cell_type": "code",
   "execution_count": 90,
   "metadata": {},
   "outputs": [
    {
     "name": "stdout",
     "output_type": "stream",
     "text": [
      "Example 1\n",
      "a: \n",
      " [[1 7 5]\n",
      " [5 3 7]]\n",
      "b: \n",
      " [[3 3 0]]\n",
      "c: \n",
      " [[ 4 10  5]\n",
      " [ 8  6  7]]\n",
      "Example 2\n",
      "a: \n",
      " [[7 3 7]\n",
      " [3 7 1]]\n",
      "b: \n",
      " [[17 13 17]\n",
      " [13 17 11]]\n"
     ]
    }
   ],
   "source": [
    "#Broadcasting\n",
    "#Example 1\n",
    "a=np.random.randint(10, size=(2, 3)) #Maqtrix\n",
    "b=np.random.randint(10, size=(1, 3))\n",
    "c=a+b\n",
    "print(\"Example 1\")\n",
    "print(\"a: \\n\",a)\n",
    "print(\"b: \\n\",b)\n",
    "print(\"c: \\n\",c)\n",
    "#Example 2\n",
    "a=np.random.randint(10, size=(2, 3)) #Maqtrix\n",
    "b=a+10\n",
    "print(\"Example 2\")\n",
    "print(\"a: \\n\",a)\n",
    "print(\"b: \\n\",b)"
   ]
  },
  {
   "cell_type": "code",
   "execution_count": 91,
   "metadata": {},
   "outputs": [
    {
     "name": "stdout",
     "output_type": "stream",
     "text": [
      "a: \n",
      " [[7 7 3]\n",
      " [4 4 2]]\n",
      "aT1: \n",
      " [[7 7]\n",
      " [3 4]\n",
      " [4 2]]\n",
      "aT2: \n",
      " [[7 4]\n",
      " [7 4]\n",
      " [3 2]]\n"
     ]
    }
   ],
   "source": [
    "#Transpose\n",
    "a=np.random.randint(10, size=(2, 3))\n",
    "aT1=np.reshape(a, (3, 2))\n",
    "aT2=np.transpose(a)\n",
    "print(\"a: \\n\",a)\n",
    "print(\"aT1: \\n\",aT1) #Not Transpose\n",
    "print(\"aT2: \\n\",aT2) #Transpose"
   ]
  },
  {
   "cell_type": "markdown",
   "metadata": {},
   "source": [
    "2.2 Multiplying Matrices and Vectors"
   ]
  },
  {
   "cell_type": "code",
   "execution_count": 92,
   "metadata": {},
   "outputs": [
    {
     "name": "stdout",
     "output_type": "stream",
     "text": [
      "a: \n",
      " [[0 6 6]\n",
      " [9 8 9]]\n",
      "b: \n",
      " [[0 7 5]\n",
      " [3 5 6]]\n",
      "c: \n",
      " [[0 6 1]\n",
      " [4 7 8]]\n",
      "a(b+c): \n",
      " [[  0  78  36]\n",
      " [ 63  96 126]]\n",
      "ab+ac: \n",
      " [[  0  78  36]\n",
      " [ 63  96 126]]\n",
      "a*b: \n",
      " [[ 0 42 30]\n",
      " [27 40 54]]\n",
      "aT*b: \n",
      " [[27 45 54]\n",
      " [24 82 78]\n",
      " [27 87 84]]\n",
      "bT*a: \n",
      " [[27 24 27]\n",
      " [45 82 87]\n",
      " [54 78 84]]\n"
     ]
    }
   ],
   "source": [
    "a=np.random.randint(10, size=(2, 3))\n",
    "b=np.random.randint(10, size=(2, 3))\n",
    "c=np.random.randint(10, size=(2, 3))\n",
    "print(\"a: \\n\",a)\n",
    "print(\"b: \\n\",b)\n",
    "print(\"c: \\n\",c)\n",
    "print(\"a(b+c): \\n\",a*(b+c))\n",
    "print(\"ab+ac: \\n\",(a*b)+(a*c))\n",
    "print(\"a*b: \\n\", a*b) # Element wise\n",
    "aT=np.transpose(a)\n",
    "bT=np.transpose(b)\n",
    "print(\"aT*b: \\n\",np.dot(aT,b)) #Real Mul Matrix (col x row)\n",
    "print(\"bT*a: \\n\",np.dot(bT,a)) #Real Mul Matrix (col x row)"
   ]
  },
  {
   "cell_type": "code",
   "execution_count": 93,
   "metadata": {
    "scrolled": true
   },
   "outputs": [
    {
     "name": "stdout",
     "output_type": "stream",
     "text": [
      "a: \n",
      " [[7 6 0]\n",
      " [4 2 2]]\n",
      "b: \n",
      " [[6]\n",
      " [5]\n",
      " [2]]\n",
      "c: \n",
      " [[72]\n",
      " [38]]\n"
     ]
    }
   ],
   "source": [
    "a=np.random.randint(10, size=(2, 3))\n",
    "b=np.random.randint(10, size=(3, 1))\n",
    "c=np.dot(a,b)\n",
    "print(\"a: \\n\",a) #Matrix\n",
    "print(\"b: \\n\",b) #Vector\n",
    "print(\"c: \\n\",c) #Vector"
   ]
  },
  {
   "cell_type": "markdown",
   "metadata": {},
   "source": [
    "2.3 Identity abd Invers Matrices"
   ]
  },
  {
   "cell_type": "code",
   "execution_count": 94,
   "metadata": {},
   "outputs": [
    {
     "name": "stdout",
     "output_type": "stream",
     "text": [
      "a: \n",
      " [[1. 0. 0.]\n",
      " [0. 1. 0.]\n",
      " [0. 0. 1.]]\n",
      "b: \n",
      " [[1 0 0]\n",
      " [0 1 0]\n",
      " [0 0 1]]\n"
     ]
    }
   ],
   "source": [
    "a=np.identity(3)\n",
    "print(\"a: \\n\",a) #I3 in float values\n",
    "b=np.identity(3).astype(int)\n",
    "print(\"b: \\n\",b) #I3 in int values"
   ]
  },
  {
   "cell_type": "code",
   "execution_count": 100,
   "metadata": {},
   "outputs": [
    {
     "name": "stdout",
     "output_type": "stream",
     "text": [
      "a: \n",
      " [[0.24989051 0.11101298 0.79884774]\n",
      " [0.88361533 0.69446368 0.78248793]\n",
      " [0.20076189 0.99878021 0.42886804]]\n",
      "b: \n",
      " [[-1.07936318  1.67419141 -1.04411541]\n",
      " [-0.49507566 -0.11873243  1.13880429]\n",
      " [ 1.65824145 -0.50721018  0.16835809]]\n"
     ]
    }
   ],
   "source": [
    "a=np.random.rand(3, 3)\n",
    "print(\"a: \\n\",a)\n",
    "b=np.linalg.inv(a) #inverse of a\n",
    "print(\"b: \\n\",b)"
   ]
  },
  {
   "cell_type": "code",
   "execution_count": 105,
   "metadata": {},
   "outputs": [
    {
     "name": "stdout",
     "output_type": "stream",
     "text": [
      "i: (in float) \n",
      " [[ 1.00000000e+00 -1.15746183e-16  1.11131214e-16]\n",
      " [ 6.62518573e-18  1.00000000e+00  3.04499641e-17]\n",
      " [-6.99371860e-17 -3.36293585e-17  1.00000000e+00]]\n",
      "i: (in int) \n",
      " [[1 0 0]\n",
      " [0 1 0]\n",
      " [0 0 0]]\n"
     ]
    }
   ],
   "source": [
    "i=np.dot(b,a)\n",
    "print(\"i: (in float) \\n\",i)\n",
    "print(\"i: (in int) \\n\",i.astype(int))"
   ]
  }
 ],
 "metadata": {
  "kernelspec": {
   "display_name": "Python 3",
   "language": "python",
   "name": "python3"
  },
  "language_info": {
   "codemirror_mode": {
    "name": "ipython",
    "version": 3
   },
   "file_extension": ".py",
   "mimetype": "text/x-python",
   "name": "python",
   "nbconvert_exporter": "python",
   "pygments_lexer": "ipython3",
   "version": "3.7.4"
  }
 },
 "nbformat": 4,
 "nbformat_minor": 2
}
